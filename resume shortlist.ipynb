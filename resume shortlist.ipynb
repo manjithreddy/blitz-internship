{
 "cells": [
  {
   "cell_type": "code",
   "execution_count": 1,
   "metadata": {},
   "outputs": [],
   "source": [
    "import spacy\n",
    "import pickle\n",
    "import random"
   ]
  },
  {
   "cell_type": "code",
   "execution_count": 2,
   "metadata": {},
   "outputs": [],
   "source": [
    "import warnings\n",
    "warnings.filterwarnings('ignore')"
   ]
  },
  {
   "cell_type": "code",
   "execution_count": 3,
   "metadata": {},
   "outputs": [],
   "source": [
    "train_data = pickle.load(open('train_data.pkl','rb'))"
   ]
  },
  {
   "cell_type": "code",
   "execution_count": 4,
   "metadata": {},
   "outputs": [
    {
     "data": {
      "text/plain": [
       "('Govardhana K Senior Software Engineer  Bengaluru, Karnataka, Karnataka - Email me on Indeed: indeed.com/r/Govardhana-K/ b2de315d95905b68  Total IT experience 5 Years 6 Months Cloud Lending Solutions INC 4 Month • Salesforce Developer Oracle 5 Years 2 Month • Core Java Developer Languages Core Java, Go Lang Oracle PL-SQL programming, Sales Force Developer with APEX.  Designations & Promotions  Willing to relocate: Anywhere  WORK EXPERIENCE  Senior Software Engineer  Cloud Lending Solutions -  Bangalore, Karnataka -  January 2018 to Present  Present  Senior Consultant  Oracle -  Bangalore, Karnataka -  November 2016 to December 2017  Staff Consultant  Oracle -  Bangalore, Karnataka -  January 2014 to October 2016  Associate Consultant  Oracle -  Bangalore, Karnataka -  November 2012 to December 2013  EDUCATION  B.E in Computer Science Engineering  Adithya Institute of Technology -  Tamil Nadu  September 2008 to June 2012  https://www.indeed.com/r/Govardhana-K/b2de315d95905b68?isid=rex-download&ikw=download-top&co=IN https://www.indeed.com/r/Govardhana-K/b2de315d95905b68?isid=rex-download&ikw=download-top&co=IN   SKILLS  APEX. (Less than 1 year), Data Structures (3 years), FLEXCUBE (5 years), Oracle (5 years), Algorithms (3 years)  LINKS  https://www.linkedin.com/in/govardhana-k-61024944/  ADDITIONAL INFORMATION  Technical Proficiency:  Languages: Core Java, Go Lang, Data Structures & Algorithms, Oracle PL-SQL programming, Sales Force with APEX. Tools: RADTool, Jdeveloper, NetBeans, Eclipse, SQL developer, PL/SQL Developer, WinSCP, Putty Web Technologies: JavaScript, XML, HTML, Webservice  Operating Systems: Linux, Windows Version control system SVN & Git-Hub Databases: Oracle Middleware: Web logic, OC4J Product FLEXCUBE: Oracle FLEXCUBE Versions 10.x, 11.x and 12.x  https://www.linkedin.com/in/govardhana-k-61024944/',\n",
       " {'entities': [(1749, 1755, 'Companies worked at'),\n",
       "   (1696, 1702, 'Companies worked at'),\n",
       "   (1417, 1423, 'Companies worked at'),\n",
       "   (1356, 1793, 'Skills'),\n",
       "   (1209, 1215, 'Companies worked at'),\n",
       "   (1136, 1248, 'Skills'),\n",
       "   (928, 932, 'Graduation Year'),\n",
       "   (858, 889, 'College Name'),\n",
       "   (821, 856, 'Degree'),\n",
       "   (787, 791, 'Graduation Year'),\n",
       "   (744, 750, 'Companies worked at'),\n",
       "   (722, 742, 'Designation'),\n",
       "   (658, 664, 'Companies worked at'),\n",
       "   (640, 656, 'Designation'),\n",
       "   (574, 580, 'Companies worked at'),\n",
       "   (555, 573, 'Designation'),\n",
       "   (470, 493, 'Companies worked at'),\n",
       "   (444, 469, 'Designation'),\n",
       "   (308, 314, 'Companies worked at'),\n",
       "   (234, 240, 'Companies worked at'),\n",
       "   (175, 198, 'Companies worked at'),\n",
       "   (93, 137, 'Email Address'),\n",
       "   (39, 48, 'Location'),\n",
       "   (13, 38, 'Designation'),\n",
       "   (0, 12, 'Name')]})"
      ]
     },
     "execution_count": 4,
     "metadata": {},
     "output_type": "execute_result"
    }
   ],
   "source": [
    "train_data[0]"
   ]
  },
  {
   "cell_type": "code",
   "execution_count": 5,
   "metadata": {},
   "outputs": [],
   "source": [
    "nlp = spacy.blank('en')\n",
    "def train_model(train_data):\n",
    "    if 'ner' not in nlp.pipe_names:\n",
    "        ner = nlp.create_pipe('ner')\n",
    "        nlp.add_pipe(ner,last=True)\n",
    "    \n",
    "    for _, annotation in train_data:\n",
    "        for ent in annotation['entities']:\n",
    "            ner.add_label(ent[2])\n",
    "            \n",
    "    other_pipes=[pipe for pipe in nlp.pipe_names if pipe!='ner']\n",
    "    with nlp.disable_pipes(*other_pipes):\n",
    "        optimizer = nlp.begin_training()\n",
    "        for itn in range(10):\n",
    "            print(\"starting iteration\"+str(itn))\n",
    "            random.shuffle(train_data)\n",
    "            losses={}\n",
    "            index=0\n",
    "            for text, annotations in train_data:\n",
    "                try:\n",
    "                    nlp.update(\n",
    "                    [text],\n",
    "                    [annotations],\n",
    "                    drop=0.2,\n",
    "                    sgd=optimizer,\n",
    "                    losses=losses)\n",
    "                except Exception as e:\n",
    "                    pass\n",
    "            print(losses)\n",
    "     \n",
    "    "
   ]
  },
  {
   "cell_type": "code",
   "execution_count": 6,
   "metadata": {},
   "outputs": [
    {
     "name": "stdout",
     "output_type": "stream",
     "text": [
      "starting iteration0\n",
      "{'ner': 14641.450567903841}\n",
      "starting iteration1\n",
      "{'ner': 11079.643207781726}\n",
      "starting iteration2\n",
      "{'ner': 9082.860350337909}\n",
      "starting iteration3\n",
      "{'ner': 7546.195294887528}\n",
      "starting iteration4\n",
      "{'ner': 7522.046507305669}\n",
      "starting iteration5\n",
      "{'ner': 6327.193011752846}\n",
      "starting iteration6\n",
      "{'ner': 4762.8833722858235}\n",
      "starting iteration7\n",
      "{'ner': 5032.089229673562}\n",
      "starting iteration8\n",
      "{'ner': 5037.485786521665}\n",
      "starting iteration9\n",
      "{'ner': 5524.663050673324}\n"
     ]
    }
   ],
   "source": [
    "train_model(train_data)"
   ]
  },
  {
   "cell_type": "code",
   "execution_count": 7,
   "metadata": {},
   "outputs": [],
   "source": [
    "nlp.to_disk('nlp_model')"
   ]
  },
  {
   "cell_type": "code",
   "execution_count": 8,
   "metadata": {},
   "outputs": [],
   "source": [
    "nlp_model = spacy.load('nlp_model')"
   ]
  },
  {
   "cell_type": "code",
   "execution_count": 9,
   "metadata": {},
   "outputs": [
    {
     "data": {
      "text/plain": [
       "('Akshay Dubey Actively looking for opportunity in .NET Development  Pune, Maharashtra - Email me on Indeed: indeed.com/r/Akshay-Dubey/87dcd40b335e6ffa  To work in a challenging environment that will test me at all level and allow me to utilize my professional as well as personal skills by way of positive contribution to the organization.  Willing to relocate to: Pune, Maharashtra  WORK EXPERIENCE  Microsoft Student Partner  MICROSOFT -  January 2015 to July 2016  Undergraduate Program  ROLES &amp; RESPONSIBILITIES: • The Microsoft Student Partners (MSP) is a worldwide recognizable program for students majoring in disciplines related to technology. • A strong understanding of the overall set of Microsoft Visual languages and the .NET Framework along with specific demonstrable skills in one or more languages or technologies. • Conducted Session of Microsoft Azure Conference in September 2015. • Hosted tech events and gave demos on campus and actively involved in student technical clubs (Microsoft Campus Club), societies, and organizations, preferably in leadership roles. • Join exclusive Microsoft training events to learn the latest technologies. Attended the Student Technology Day, which included high-profile presentations, such as one by the CEO of Microsoft, Satya Nadella; and TechDays or DevCon (Developer Conference)  Web Link: https://akshaydubey.wordpress.com/  Microsoft Student Associate  MICROSOFT -  July 2014 to December 2015  Undergraduate Program  ROLES &amp; RESPONSIBILITIES: • The Microsoft Student Associate (MSA) program is an educational and promotional program especially for undergraduates Students. • Microsoft Student Associates are technology enthusiasts, student influencers using technology for social impact. • Learn &amp; implement emerging technologies like Microsoft Visual Studio IDE, ASP.NET, and useful desktop application using the free tools &amp; emulator.  https://www.indeed.com/r/Akshay-Dubey/87dcd40b335e6ffa?isid=rex-download&ikw=download-top&co=IN   • Promoting and building city-level Microsoft Student User Group collaborating with other MSPs.  Web Link: https://admicrosoft.blogspot.in/  BE PROJECT UNDERTAKEN: • PROJECT TITLE: Web Based Authentication Providing High Security of Graphical Images Making Ninja Password Authentication Tool.  • PROJECT DESCRIPTION: It was developed on ASP.NET framework and the main objective is to providing high security wall on web application and make convenient to user or stakeholder to secure their web application by using MS SQL Server database.  EDUCATION  B.E  Sinhgad Institute  2016  HSC  Maharashtra State -  Lonavale, Maharashtra  2012  SSC  Maharashtra State  2010  Technology & Science  Pune University -  Lonavale, Maharashtra  SKILLS  .NET (3 years), ASP (1 year), ASP.NET (1 year), C# (1 year), databases. (1 year), C++, Css, Javascript, Html, C  ADDITIONAL INFORMATION  TECHNICAL SKILLS  Programming Languages C# .NET, CPP, C  Web Development ASP.NET, HTML, CSS, JavaScript    Tools used MS visual Studio v2013, MS SQL Server v2008  Operating Systems Windows 10 / 8.1/ 7  Databases MS-SQL',\n",
       " {'entities': [(2889, 3089, 'Skills'),\n",
       "   (2734, 2846, 'Skills'),\n",
       "   (2684, 2688, 'Location'),\n",
       "   (2552, 2570, 'College Name'),\n",
       "   (2547, 2550, 'Degree'),\n",
       "   (1909, 1951, 'Email Address'),\n",
       "   (1412, 1421, 'Companies worked at'),\n",
       "   (427, 436, 'Companies worked at'),\n",
       "   (400, 426, 'Designation'),\n",
       "   (364, 368, 'Location'),\n",
       "   (107, 149, 'Email Address'),\n",
       "   (67, 71, 'Location'),\n",
       "   (0, 12, 'Name')]})"
      ]
     },
     "execution_count": 9,
     "metadata": {},
     "output_type": "execute_result"
    }
   ],
   "source": [
    "train_data[0]"
   ]
  },
  {
   "cell_type": "code",
   "execution_count": 10,
   "metadata": {},
   "outputs": [
    {
     "name": "stdout",
     "output_type": "stream",
     "text": [
      "NAME                          - Akshay Dubey\n",
      "LOCATION                      - Pune\n",
      "EMAIL ADDRESS                 - indeed.com/r/Akshay-Dubey/87dcd40b335e6ffa\n",
      "LOCATION                      - Pune\n",
      "DESIGNATION                   - Microsoft Student Partner\n",
      "COMPANIES WORKED AT           - MICROSOFT\n",
      "COMPANIES WORKED AT           - MICROSOFT\n",
      "DEGREE                        - B.E\n",
      "COLLEGE NAME                  - Sinhgad Institute\n",
      "SKILLS                        - .NET (3 years), ASP (1 year), ASP.NET (1 year), C# (1 year), databases. (1 year), C++, Css, Javascript, Html, C  ADDITIONAL INFORMATION  TECHNICAL SKILLS  Programming Languages C# .NET, CPP, C  Web Development ASP.NET, HTML, CSS, JavaScript    Tools used MS visual Studio v2013, MS SQL Server v2008  Operating Systems Windows 10 / 8.1/ 7  Databases MS-SQL\n"
     ]
    }
   ],
   "source": [
    "doc = nlp_model(train_data[0][0])\n",
    "for ent in doc.ents:\n",
    "    print(f'{ent.label_.upper():{30}}- {ent.text}')"
   ]
  },
  {
   "cell_type": "code",
   "execution_count": 11,
   "metadata": {},
   "outputs": [
    {
     "data": {
      "text/plain": [
       "'Akshay Dubey Actively looking for opportunity in .NET Development  Pune, Maharashtra - Email me on Indeed: indeed.com/r/Akshay-Dubey/87dcd40b335e6ffa  To work in a challenging environment that will test me at all level and allow me to utilize my professional as well as personal skills by way of positive contribution to the organization.  Willing to relocate to: Pune, Maharashtra  WORK EXPERIENCE  Microsoft Student Partner  MICROSOFT -  January 2015 to July 2016  Undergraduate Program  ROLES &amp; RESPONSIBILITIES: • The Microsoft Student Partners (MSP) is a worldwide recognizable program for students majoring in disciplines related to technology. • A strong understanding of the overall set of Microsoft Visual languages and the .NET Framework along with specific demonstrable skills in one or more languages or technologies. • Conducted Session of Microsoft Azure Conference in September 2015. • Hosted tech events and gave demos on campus and actively involved in student technical clubs (Microsoft Campus Club), societies, and organizations, preferably in leadership roles. • Join exclusive Microsoft training events to learn the latest technologies. Attended the Student Technology Day, which included high-profile presentations, such as one by the CEO of Microsoft, Satya Nadella; and TechDays or DevCon (Developer Conference)  Web Link: https://akshaydubey.wordpress.com/  Microsoft Student Associate  MICROSOFT -  July 2014 to December 2015  Undergraduate Program  ROLES &amp; RESPONSIBILITIES: • The Microsoft Student Associate (MSA) program is an educational and promotional program especially for undergraduates Students. • Microsoft Student Associates are technology enthusiasts, student influencers using technology for social impact. • Learn &amp; implement emerging technologies like Microsoft Visual Studio IDE, ASP.NET, and useful desktop application using the free tools &amp; emulator.  https://www.indeed.com/r/Akshay-Dubey/87dcd40b335e6ffa?isid=rex-download&ikw=download-top&co=IN   • Promoting and building city-level Microsoft Student User Group collaborating with other MSPs.  Web Link: https://admicrosoft.blogspot.in/  BE PROJECT UNDERTAKEN: • PROJECT TITLE: Web Based Authentication Providing High Security of Graphical Images Making Ninja Password Authentication Tool.  • PROJECT DESCRIPTION: It was developed on ASP.NET framework and the main objective is to providing high security wall on web application and make convenient to user or stakeholder to secure their web application by using MS SQL Server database.  EDUCATION  B.E  Sinhgad Institute  2016  HSC  Maharashtra State -  Lonavale, Maharashtra  2012  SSC  Maharashtra State  2010  Technology & Science  Pune University -  Lonavale, Maharashtra  SKILLS  .NET (3 years), ASP (1 year), ASP.NET (1 year), C# (1 year), databases. (1 year), C++, Css, Javascript, Html, C  ADDITIONAL INFORMATION  TECHNICAL SKILLS  Programming Languages C# .NET, CPP, C  Web Development ASP.NET, HTML, CSS, JavaScript    Tools used MS visual Studio v2013, MS SQL Server v2008  Operating Systems Windows 10 / 8.1/ 7  Databases MS-SQL'"
      ]
     },
     "execution_count": 11,
     "metadata": {},
     "output_type": "execute_result"
    }
   ],
   "source": [
    "train_data[0][0]"
   ]
  },
  {
   "cell_type": "code",
   "execution_count": 12,
   "metadata": {},
   "outputs": [
    {
     "name": "stdout",
     "output_type": "stream",
     "text": [
      "VENNAPUSA VENKATA MANJITH KUMAR REDDY  Mobile: 9182396764         Email: vvmanjithkumarreddy@gmail.com  Linkedin: https://www.linkedin.com/in/manjith-reddy-vennapusa/  Github: https://github.com/manjithreddy      CAREER OBJECTIVE:-  To succeed in an environment of growth and excellence and earn a job which provides me  job satisfaction and self-development and help me achieve proffesional as well as  organisational goals.  EDUCATIONAL QUALIFICATIONS:-   Bachelor of Technology in computer science Engineering      2017-2021  National Institute of Technology Puducherry  CGPA: 7.84(upto 6th semester)   CLASS XII                                                                                             2015-2017  BIIT Junior College  Percentage: 98.1%   CLASS X                                                                                                2015  Bhashyam High school  GPA: 10/10  INTERNSHIPS:-   Eidiko Systems Integrators                                            (Dec 2019- Jan 2020)  It was a one-month internship program where I was trained from basic to advanced  level UNIX commands and got familiar with Linux os and also worked on technologies  like jdbc connectivity, apache-tomcat, servlets, python database connectors and DB2  databases.  MINI-PROJECTS:-  I had worked on many mini-projects using machine learning, deep learning and   Natural language processing, I have listed some of them below  1.Detection of Pneumonia using deep learning and stock price prediction using LSTM      Recurrent Neural Networks  2.Movie Recommender system based on content-based filtering and collaborative     Filtering in machine learning  3.Credit card fraud detection,house price prediction,titanic survival prediction    and similar Kaggle competition Projects.   4. Comparing Stock returns with google sheets   5.Various diseases like malaria, cancer, diabetes predictions using machine learning    6. Fake News Classifier using machine learning and natural language processing    TECHNICAL SKILLS:-   Languages Known: C, C++, JAVA, PYTHON   Web Technologies: HTML, CSS, XML, PHP, JAVA SCRIPT   Database Knowledge: IBM DB2, MYSQL, SQLITE   Technologies: Keras, Tensor Flow, PyTorch, NLP, Tableau  CERTIFICATIONS:-   Deep Learning Certification from Kaggle                                     Aug 2020   Data Analysis with python, Data Visualization with python,    Mar 2020  Machine learning with python from coursera                             April 2020   Introduction to Datascience Specialization from coursera        Feb 2020   Python For Everybody Specialization from coursera                   Jan 2020  WORKSHOPS:-   Attended the workshop of Entrepreneurship and Innovation as career opportunity on   at NIT puducherry   Attended the workshop of “Deep Learning” and “Applications of Machine Learning”   at NIT Trichy  EXTRA-CURRICULAR ACTIVITIES:-   Treasurer at Innovation and Incubation cell of NIT puducherry  Conducted various innovation and entrepreneurship related activities i.e  seminars/workshops with entrepreneurs and events like Hackathons,  project-expo  prescribed by central MIC in time bound fashion.   Student volunteer in know(knowledge) club in our college  Our mission is to enhance the communication skills& build their reasoning and  analytical skills of the Government School Students in our town i.e Karaikal.     \n"
     ]
    }
   ],
   "source": [
    "import sys,fitz\n",
    "doc=fitz.open('Data Science resume.pdf')\n",
    "text=\"\"\n",
    "for page in doc:\n",
    "    text = text + str(page.getText())\n",
    "    \n",
    "tx = \" \".join(text.split('\\n'))\n",
    "print(tx)"
   ]
  },
  {
   "cell_type": "code",
   "execution_count": 13,
   "metadata": {},
   "outputs": [
    {
     "name": "stdout",
     "output_type": "stream",
     "text": [
      "NAME                          - VENNAPUSA VENKATA\n",
      "DEGREE                        - Bachelor of Technology\n",
      "GRADUATION YEAR               - 2015\n"
     ]
    }
   ],
   "source": [
    "doc = nlp_model(tx)\n",
    "for ent in doc.ents:\n",
    "    print(f'{ent.label_.upper():{30}}- {ent.text}')"
   ]
  },
  {
   "cell_type": "code",
   "execution_count": null,
   "metadata": {},
   "outputs": [],
   "source": []
  }
 ],
 "metadata": {
  "kernelspec": {
   "display_name": "Python 3",
   "language": "python",
   "name": "python3"
  },
  "language_info": {
   "codemirror_mode": {
    "name": "ipython",
    "version": 3
   },
   "file_extension": ".py",
   "mimetype": "text/x-python",
   "name": "python",
   "nbconvert_exporter": "python",
   "pygments_lexer": "ipython3",
   "version": "3.6.10"
  }
 },
 "nbformat": 4,
 "nbformat_minor": 4
}
